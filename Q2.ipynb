{
  "cells": [
    {
      "metadata": {
        "collapsed": true
      },
      "cell_type": "markdown",
      "source": "# Assignment One\n## Question 2 (50 points):Please download the dataset using the given link and create a multivariate linear regression model to predict profits depending on investments of startups. \nSplit the data in ratio 9:1 in proportion to train:test.\n\nLink for the dataset: https://1drv.ms/u/s!Ai33XNwSq5w1iUCsc9aF0JkGAA3E?e=Ho8kgQ"
    },
    {
      "metadata": {
        "trusted": true
      },
      "cell_type": "markdown",
      "source": "Almasfiza Shaikh.            ID--->20200620"
    },
    {
      "metadata": {},
      "cell_type": "markdown",
      "source": "### -------------> Importing Libraries   <------------------"
    },
    {
      "metadata": {
        "trusted": true
      },
      "cell_type": "code",
      "source": "import numpy as np\nimport matplotlib.pyplot as plt\nimport pandas as pd",
      "execution_count": 37,
      "outputs": []
    },
    {
      "metadata": {},
      "cell_type": "markdown",
      "source": "#### -----------> Reading the data set from Startups.csv  <-----------------"
    },
    {
      "metadata": {},
      "cell_type": "markdown",
      "source": "I encoded the state's entries as \nNew York- 1\nCalifornia- 2\nFlorida- 3"
    },
    {
      "metadata": {
        "trusted": true
      },
      "cell_type": "code",
      "source": "dataset = pd.read_csv('Startups.csv')",
      "execution_count": 38,
      "outputs": []
    },
    {
      "metadata": {},
      "cell_type": "markdown",
      "source": "####  -----------> Storing the features in X <-----------------"
    },
    {
      "metadata": {
        "trusted": true
      },
      "cell_type": "code",
      "source": "X = dataset.iloc[:, :-1].values",
      "execution_count": 39,
      "outputs": []
    },
    {
      "metadata": {},
      "cell_type": "markdown",
      "source": "#### ---------> Storing the profit value in Y <-------------"
    },
    {
      "metadata": {
        "trusted": true
      },
      "cell_type": "code",
      "source": "y = dataset.iloc[:, 4].values",
      "execution_count": 40,
      "outputs": []
    },
    {
      "metadata": {},
      "cell_type": "markdown",
      "source": "#### -------------> Splitting the dataset into the training set and the test set <-------------\n##### train:test = 9:1\n"
    },
    {
      "metadata": {
        "trusted": true
      },
      "cell_type": "code",
      "source": "from sklearn.model_selection import train_test_split\nX_train, X_test, y_train, y_test = train_test_split(X, y, test_size = 0.1, random_state = 0)",
      "execution_count": 41,
      "outputs": []
    },
    {
      "metadata": {},
      "cell_type": "markdown",
      "source": "#### ------------> Fitting multiple linear regression model <----------------"
    },
    {
      "metadata": {
        "trusted": true
      },
      "cell_type": "code",
      "source": "from sklearn.linear_model import LinearRegression\nregressor = LinearRegression()",
      "execution_count": 42,
      "outputs": []
    },
    {
      "metadata": {},
      "cell_type": "markdown",
      "source": "Object to our training test"
    },
    {
      "metadata": {
        "trusted": true
      },
      "cell_type": "code",
      "source": "regressor.fit(X_train, y_train)",
      "execution_count": 43,
      "outputs": [
        {
          "output_type": "execute_result",
          "execution_count": 43,
          "data": {
            "text/plain": "LinearRegression(copy_X=True, fit_intercept=True, n_jobs=None,\n         normalize=False)"
          },
          "metadata": {}
        }
      ]
    },
    {
      "metadata": {},
      "cell_type": "markdown",
      "source": "### --------------> Predicting the results!!!!!!! <-------------------"
    },
    {
      "metadata": {
        "trusted": true
      },
      "cell_type": "code",
      "source": "y_pred = regressor.predict(X_test)\nprint(y_pred)",
      "execution_count": 44,
      "outputs": [
        {
          "output_type": "stream",
          "text": "[101575.23156133 133157.77973627 132622.19107463  72790.83240024\n 178395.22609105]\n",
          "name": "stdout"
        }
      ]
    },
    {
      "metadata": {},
      "cell_type": "markdown",
      "source": "##### to find the loss function values i.e. yvalue-ypredicted"
    },
    {
      "metadata": {
        "trusted": true
      },
      "cell_type": "code",
      "source": "print(y_test)",
      "execution_count": 45,
      "outputs": [
        {
          "output_type": "stream",
          "text": "[103282.38 144259.4  146121.95  77798.83 191050.39]\n",
          "name": "stdout"
        }
      ]
    },
    {
      "metadata": {
        "trusted": true
      },
      "cell_type": "code",
      "source": "",
      "execution_count": null,
      "outputs": []
    }
  ],
  "metadata": {
    "kernelspec": {
      "name": "python36",
      "display_name": "Python 3.6",
      "language": "python"
    },
    "language_info": {
      "mimetype": "text/x-python",
      "nbconvert_exporter": "python",
      "name": "python",
      "pygments_lexer": "ipython3",
      "version": "3.6.6",
      "file_extension": ".py",
      "codemirror_mode": {
        "version": 3,
        "name": "ipython"
      }
    }
  },
  "nbformat": 4,
  "nbformat_minor": 2
}