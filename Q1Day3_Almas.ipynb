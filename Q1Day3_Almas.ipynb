{
  "nbformat": 4,
  "nbformat_minor": 0,
  "metadata": {
    "colab": {
      "name": "Q1Day3_Almas.ipynb",
      "provenance": [],
      "authorship_tag": "ABX9TyOTKrSWOF4KeqF0cIZYaPyb",
      "include_colab_link": true
    },
    "kernelspec": {
      "name": "python3",
      "display_name": "Python 3"
    }
  },
  "cells": [
    {
      "cell_type": "markdown",
      "metadata": {
        "id": "view-in-github",
        "colab_type": "text"
      },
      "source": [
        "<a href=\"https://colab.research.google.com/github/almasfiza/ML-DLShow/blob/master/Q1Day3_Almas.ipynb\" target=\"_parent\"><img src=\"https://colab.research.google.com/assets/colab-badge.svg\" alt=\"Open In Colab\"/></a>"
      ]
    },
    {
      "cell_type": "code",
      "metadata": {
        "id": "ZJ-vPA949GQm",
        "colab_type": "code",
        "colab": {}
      },
      "source": [
        "#importing the libraries - numpy is use for computations while pandas is used for data analysis\n",
        "import numpy as np\n",
        "import pandas as pd"
      ],
      "execution_count": 1,
      "outputs": []
    },
    {
      "cell_type": "code",
      "metadata": {
        "id": "Tli473Mq9Va-",
        "colab_type": "code",
        "colab": {
          "base_uri": "https://localhost:8080/",
          "height": 34
        },
        "outputId": "7f7c63a3-d73d-4701-d4eb-2083f430d375"
      },
      "source": [
        "#dataset reading\n",
        "data = pd.read_csv(\"Tennis.csv\")\n",
        "print(data.shape)"
      ],
      "execution_count": 3,
      "outputs": [
        {
          "output_type": "stream",
          "text": [
            "(14, 5)\n"
          ],
          "name": "stdout"
        }
      ]
    },
    {
      "cell_type": "code",
      "metadata": {
        "id": "odwcF-0I9qhg",
        "colab_type": "code",
        "colab": {
          "base_uri": "https://localhost:8080/",
          "height": 483
        },
        "outputId": "27d5a03d-530b-48a4-ba83-5ce42aec3375"
      },
      "source": [
        "data.head(15)"
      ],
      "execution_count": 8,
      "outputs": [
        {
          "output_type": "execute_result",
          "data": {
            "text/html": [
              "<div>\n",
              "<style scoped>\n",
              "    .dataframe tbody tr th:only-of-type {\n",
              "        vertical-align: middle;\n",
              "    }\n",
              "\n",
              "    .dataframe tbody tr th {\n",
              "        vertical-align: top;\n",
              "    }\n",
              "\n",
              "    .dataframe thead th {\n",
              "        text-align: right;\n",
              "    }\n",
              "</style>\n",
              "<table border=\"1\" class=\"dataframe\">\n",
              "  <thead>\n",
              "    <tr style=\"text-align: right;\">\n",
              "      <th></th>\n",
              "      <th>Sr. no.</th>\n",
              "      <th>Outlook</th>\n",
              "      <th>Temperature</th>\n",
              "      <th>Wind</th>\n",
              "      <th>PlayTennis</th>\n",
              "    </tr>\n",
              "  </thead>\n",
              "  <tbody>\n",
              "    <tr>\n",
              "      <th>0</th>\n",
              "      <td>1</td>\n",
              "      <td>Sunny</td>\n",
              "      <td>Hot</td>\n",
              "      <td>Weak</td>\n",
              "      <td>No</td>\n",
              "    </tr>\n",
              "    <tr>\n",
              "      <th>1</th>\n",
              "      <td>2</td>\n",
              "      <td>Sunny</td>\n",
              "      <td>Hot</td>\n",
              "      <td>Strong</td>\n",
              "      <td>No</td>\n",
              "    </tr>\n",
              "    <tr>\n",
              "      <th>2</th>\n",
              "      <td>3</td>\n",
              "      <td>Overcast</td>\n",
              "      <td>Hot</td>\n",
              "      <td>Weak</td>\n",
              "      <td>Yes</td>\n",
              "    </tr>\n",
              "    <tr>\n",
              "      <th>3</th>\n",
              "      <td>4</td>\n",
              "      <td>Rain</td>\n",
              "      <td>Mild</td>\n",
              "      <td>Weak</td>\n",
              "      <td>Yes</td>\n",
              "    </tr>\n",
              "    <tr>\n",
              "      <th>4</th>\n",
              "      <td>5</td>\n",
              "      <td>Rain</td>\n",
              "      <td>Cool</td>\n",
              "      <td>Weak</td>\n",
              "      <td>Yes</td>\n",
              "    </tr>\n",
              "    <tr>\n",
              "      <th>5</th>\n",
              "      <td>6</td>\n",
              "      <td>Rain</td>\n",
              "      <td>Cool</td>\n",
              "      <td>Strong</td>\n",
              "      <td>No</td>\n",
              "    </tr>\n",
              "    <tr>\n",
              "      <th>6</th>\n",
              "      <td>7</td>\n",
              "      <td>Overcast</td>\n",
              "      <td>Cool</td>\n",
              "      <td>Strong</td>\n",
              "      <td>Yes</td>\n",
              "    </tr>\n",
              "    <tr>\n",
              "      <th>7</th>\n",
              "      <td>8</td>\n",
              "      <td>Sunny</td>\n",
              "      <td>Mild</td>\n",
              "      <td>Weak</td>\n",
              "      <td>No</td>\n",
              "    </tr>\n",
              "    <tr>\n",
              "      <th>8</th>\n",
              "      <td>9</td>\n",
              "      <td>Sunny</td>\n",
              "      <td>Cool</td>\n",
              "      <td>Weak</td>\n",
              "      <td>Yes</td>\n",
              "    </tr>\n",
              "    <tr>\n",
              "      <th>9</th>\n",
              "      <td>10</td>\n",
              "      <td>Rain</td>\n",
              "      <td>Mild</td>\n",
              "      <td>Weak</td>\n",
              "      <td>Yes</td>\n",
              "    </tr>\n",
              "    <tr>\n",
              "      <th>10</th>\n",
              "      <td>11</td>\n",
              "      <td>Sunny</td>\n",
              "      <td>Mild</td>\n",
              "      <td>Strong</td>\n",
              "      <td>Yes</td>\n",
              "    </tr>\n",
              "    <tr>\n",
              "      <th>11</th>\n",
              "      <td>12</td>\n",
              "      <td>Overcast</td>\n",
              "      <td>Mild</td>\n",
              "      <td>Strong</td>\n",
              "      <td>Yes</td>\n",
              "    </tr>\n",
              "    <tr>\n",
              "      <th>12</th>\n",
              "      <td>13</td>\n",
              "      <td>Overcast</td>\n",
              "      <td>Hot</td>\n",
              "      <td>Weak</td>\n",
              "      <td>Yes</td>\n",
              "    </tr>\n",
              "    <tr>\n",
              "      <th>13</th>\n",
              "      <td>14</td>\n",
              "      <td>Rain</td>\n",
              "      <td>Mild</td>\n",
              "      <td>Strong</td>\n",
              "      <td>No</td>\n",
              "    </tr>\n",
              "  </tbody>\n",
              "</table>\n",
              "</div>"
            ],
            "text/plain": [
              "    Sr. no.   Outlook Temperature    Wind PlayTennis\n",
              "0         1     Sunny         Hot    Weak         No\n",
              "1         2     Sunny         Hot  Strong         No\n",
              "2         3  Overcast         Hot    Weak        Yes\n",
              "3         4      Rain        Mild    Weak        Yes\n",
              "4         5      Rain        Cool    Weak        Yes\n",
              "5         6      Rain        Cool  Strong         No\n",
              "6         7  Overcast        Cool  Strong        Yes\n",
              "7         8     Sunny        Mild    Weak         No\n",
              "8         9     Sunny        Cool    Weak        Yes\n",
              "9        10      Rain        Mild    Weak        Yes\n",
              "10       11     Sunny        Mild  Strong        Yes\n",
              "11       12  Overcast        Mild  Strong        Yes\n",
              "12       13  Overcast         Hot    Weak        Yes\n",
              "13       14      Rain        Mild  Strong         No"
            ]
          },
          "metadata": {
            "tags": []
          },
          "execution_count": 8
        }
      ]
    },
    {
      "cell_type": "code",
      "metadata": {
        "id": "RrY4rxSC9wtQ",
        "colab_type": "code",
        "colab": {}
      },
      "source": [
        "data.tail(10)"
      ],
      "execution_count": null,
      "outputs": []
    },
    {
      "cell_type": "code",
      "metadata": {
        "id": "Ino2d0Eb9yxM",
        "colab_type": "code",
        "colab": {}
      },
      "source": [
        "#using sklearn to label data\n",
        "from sklearn import preprocessing"
      ],
      "execution_count": 6,
      "outputs": []
    },
    {
      "cell_type": "code",
      "metadata": {
        "id": "b7ez96WE97_L",
        "colab_type": "code",
        "colab": {}
      },
      "source": [
        "#encodes values from 0 to n-1\n",
        "le = preprocessing.LabelEncoder()"
      ],
      "execution_count": 7,
      "outputs": []
    },
    {
      "cell_type": "code",
      "metadata": {
        "id": "Fry0gZUa9-Y4",
        "colab_type": "code",
        "colab": {}
      },
      "source": [
        "#Assigning features and label variables Since we cannot use the strings as it is.\n",
        "\n",
        "Outlook = ['Sunny','Sunny','Overcast','Rain','Rain','Rain','Overcast','Sunny','Sunny','Rain','Sunny','Overcast','Overcast','Rain']"
      ],
      "execution_count": 12,
      "outputs": []
    },
    {
      "cell_type": "code",
      "metadata": {
        "id": "Fi-8o08r-iRf",
        "colab_type": "code",
        "colab": {}
      },
      "source": [
        "#Converting string labels to encoded numbers\n",
        "Outlook_encoded = le.fit_transform(Outlook)"
      ],
      "execution_count": 13,
      "outputs": []
    },
    {
      "cell_type": "code",
      "metadata": {
        "id": "mXSqbHHU-ngW",
        "colab_type": "code",
        "colab": {
          "base_uri": "https://localhost:8080/",
          "height": 34
        },
        "outputId": "c1fbf05d-3b7e-48c8-ee13-8fd4d59038e9"
      },
      "source": [
        "#looking at the encoded values\n",
        "print(Outlook_encoded)"
      ],
      "execution_count": 14,
      "outputs": [
        {
          "output_type": "stream",
          "text": [
            "[2 2 0 1 1 1 0 2 2 1 2 0 0 1]\n"
          ],
          "name": "stdout"
        }
      ]
    },
    {
      "cell_type": "markdown",
      "metadata": {
        "id": "zb8T9eVQ-wCE",
        "colab_type": "text"
      },
      "source": [
        "0->Overcast\n",
        "1->Rain\n",
        "2->Sunny"
      ]
    },
    {
      "cell_type": "markdown",
      "metadata": {
        "id": "-_xmAk9U-3eU",
        "colab_type": "text"
      },
      "source": [
        "Similarly encoding other values"
      ]
    },
    {
      "cell_type": "code",
      "metadata": {
        "id": "HEHEVN02-s0P",
        "colab_type": "code",
        "colab": {}
      },
      "source": [
        "Temperature=['Hot','Hot','Hot','Mild','Cool','Cool','Cool','Mild','Cool','Mild','Mild','Mild','Hot','Mild']\n",
        "Wind=['Weak','Strong','Weak','Weak','Weak','Strong','Strong','Weak','Weak','Weak','Strong','Strong','Weak','Strong']\n",
        "PlayTennis=['No','No','Yes','Yes','Yes','No','Yes','No','Yes','Yes','Yes','Yes','Yes','No']"
      ],
      "execution_count": 15,
      "outputs": []
    },
    {
      "cell_type": "code",
      "metadata": {
        "id": "_5si2OHyAPiS",
        "colab_type": "code",
        "colab": {}
      },
      "source": [
        "Temperature_encoded = le.fit_transform(Temperature)\n",
        "Wind_encoded = le.fit_transform(Wind)\n",
        "PlayTennis_encoded = le.fit_transform(PlayTennis)"
      ],
      "execution_count": 16,
      "outputs": []
    },
    {
      "cell_type": "code",
      "metadata": {
        "id": "hHhXzCpJAc40",
        "colab_type": "code",
        "colab": {
          "base_uri": "https://localhost:8080/",
          "height": 34
        },
        "outputId": "1c7a5731-2b39-447f-b649-94245cfe9b56"
      },
      "source": [
        "#checking the encoded values\n",
        "print(Temperature_encoded)"
      ],
      "execution_count": 17,
      "outputs": [
        {
          "output_type": "stream",
          "text": [
            "[1 1 1 2 0 0 0 2 0 2 2 2 1 2]\n"
          ],
          "name": "stdout"
        }
      ]
    },
    {
      "cell_type": "markdown",
      "metadata": {
        "id": "jzNUCxRVAxkh",
        "colab_type": "text"
      },
      "source": [
        "0->Cool 1->Hot 2->Mild"
      ]
    },
    {
      "cell_type": "code",
      "metadata": {
        "id": "hTqewzQUApsq",
        "colab_type": "code",
        "colab": {
          "base_uri": "https://localhost:8080/",
          "height": 34
        },
        "outputId": "66464856-781a-4ac4-bd14-c9ee42b4d10f"
      },
      "source": [
        "print(Wind_encoded)"
      ],
      "execution_count": 18,
      "outputs": [
        {
          "output_type": "stream",
          "text": [
            "[1 0 1 1 1 0 0 1 1 1 0 0 1 0]\n"
          ],
          "name": "stdout"
        }
      ]
    },
    {
      "cell_type": "markdown",
      "metadata": {
        "id": "vyeABBNJA66P",
        "colab_type": "text"
      },
      "source": [
        "0->Strong 1-> Weak"
      ]
    },
    {
      "cell_type": "code",
      "metadata": {
        "id": "yEfZO-vdArRM",
        "colab_type": "code",
        "colab": {
          "base_uri": "https://localhost:8080/",
          "height": 34
        },
        "outputId": "d034ced0-71bb-4956-de1d-0bc3827708f4"
      },
      "source": [
        "print(PlayTennis_encoded)"
      ],
      "execution_count": 19,
      "outputs": [
        {
          "output_type": "stream",
          "text": [
            "[0 0 1 1 1 0 1 0 1 1 1 1 1 0]\n"
          ],
          "name": "stdout"
        }
      ]
    },
    {
      "cell_type": "markdown",
      "metadata": {
        "id": "JsviUcl9A-cW",
        "colab_type": "text"
      },
      "source": [
        "0->No 1->Yes"
      ]
    },
    {
      "cell_type": "markdown",
      "metadata": {
        "id": "Rm05NRiPBO-I",
        "colab_type": "text"
      },
      "source": [
        "Now, comparing the PlayTennis label with all other features"
      ]
    },
    {
      "cell_type": "code",
      "metadata": {
        "id": "nCwQWs7FAtt5",
        "colab_type": "code",
        "colab": {
          "base_uri": "https://localhost:8080/",
          "height": 51
        },
        "outputId": "d0da62bd-7c7d-4dc7-b92b-9003b0fd99f2"
      },
      "source": [
        "#with Temperature\n",
        "Temperature_encoded = le.fit_transform(Temperature)\n",
        "label = le.fit_transform(PlayTennis)\n",
        "print(\"Temperature: \",Temperature_encoded)\n",
        "print(\"PlayTennis: \",label)"
      ],
      "execution_count": 21,
      "outputs": [
        {
          "output_type": "stream",
          "text": [
            "Temperature:  [1 1 1 2 0 0 0 2 0 2 2 2 1 2]\n",
            "PlayTennis:  [0 0 1 1 1 0 1 0 1 1 1 1 1 0]\n"
          ],
          "name": "stdout"
        }
      ]
    },
    {
      "cell_type": "code",
      "metadata": {
        "id": "b0Izm17rBo32",
        "colab_type": "code",
        "colab": {
          "base_uri": "https://localhost:8080/",
          "height": 51
        },
        "outputId": "a0cefe4f-c617-4637-8d4d-afb0ca166cb4"
      },
      "source": [
        "Outlook_encoded = le.fit_transform(Outlook)\n",
        "label = le.fit_transform(PlayTennis)\n",
        "print(\"Outlook: \",Temperature_encoded)\n",
        "print(\"PlayTennis: \",label)"
      ],
      "execution_count": 24,
      "outputs": [
        {
          "output_type": "stream",
          "text": [
            "Outlook:  [1 1 1 2 0 0 0 2 0 2 2 2 1 2]\n",
            "PlayTennis:  [0 0 1 1 1 0 1 0 1 1 1 1 1 0]\n"
          ],
          "name": "stdout"
        }
      ]
    },
    {
      "cell_type": "code",
      "metadata": {
        "id": "JfDGNsd2CeLN",
        "colab_type": "code",
        "colab": {
          "base_uri": "https://localhost:8080/",
          "height": 51
        },
        "outputId": "c3f63204-d6ef-4afe-c4db-216dbd6290ea"
      },
      "source": [
        "Wind_encoded = le.fit_transform(Wind)\n",
        "label = le.fit_transform(PlayTennis)\n",
        "print(\"Wind: \",Wind_encoded)\n",
        "print(\"PlayTennis: \",label)"
      ],
      "execution_count": 25,
      "outputs": [
        {
          "output_type": "stream",
          "text": [
            "Wind:  [1 0 1 1 1 0 0 1 1 1 0 0 1 0]\n",
            "PlayTennis:  [0 0 1 1 1 0 1 0 1 1 1 1 1 0]\n"
          ],
          "name": "stdout"
        }
      ]
    },
    {
      "cell_type": "markdown",
      "metadata": {
        "id": "scn0SDD0CnIk",
        "colab_type": "text"
      },
      "source": [
        "Combining Wind, Temperature and Outlook with PlayTennis in the form of tuples"
      ]
    },
    {
      "cell_type": "code",
      "metadata": {
        "id": "6Rh4Q57sCtQ-",
        "colab_type": "code",
        "colab": {}
      },
      "source": [
        "\n",
        "def merge(Outlook_encoded, Temperature_encoded, Wind_encoded):\n",
        "\n",
        "  merged_list = tuple(zip(Outlook_encoded, Temperature_encoded, Wind_encoded))\n",
        "  return merged_list"
      ],
      "execution_count": 26,
      "outputs": []
    },
    {
      "cell_type": "code",
      "metadata": {
        "id": "hK6WeWs2C6ua",
        "colab_type": "code",
        "colab": {
          "base_uri": "https://localhost:8080/",
          "height": 54
        },
        "outputId": "c6c78097-5072-4c72-d669-834d2ace676e"
      },
      "source": [
        "print(merge(Outlook_encoded,Temperature_encoded,Wind_encoded))"
      ],
      "execution_count": 27,
      "outputs": [
        {
          "output_type": "stream",
          "text": [
            "((2, 1, 1), (2, 1, 0), (0, 1, 1), (1, 2, 1), (1, 0, 1), (1, 0, 0), (0, 0, 0), (2, 2, 1), (2, 0, 1), (1, 2, 1), (2, 2, 0), (0, 2, 0), (0, 1, 1), (1, 2, 0))\n"
          ],
          "name": "stdout"
        }
      ]
    },
    {
      "cell_type": "code",
      "metadata": {
        "id": "Ve3VsiYxC_7f",
        "colab_type": "code",
        "colab": {}
      },
      "source": [
        "#import Guassian NB\n",
        "from sklearn.naive_bayes import GaussianNB"
      ],
      "execution_count": 28,
      "outputs": []
    },
    {
      "cell_type": "code",
      "metadata": {
        "id": "HS3fTV2KDCYt",
        "colab_type": "code",
        "colab": {}
      },
      "source": [
        "#create a Gaussian classifier\n",
        "model = GaussianNB() # change ofr Bernouilli and multinomial"
      ],
      "execution_count": 29,
      "outputs": []
    },
    {
      "cell_type": "code",
      "metadata": {
        "id": "pb6zMZcJDFN9",
        "colab_type": "code",
        "colab": {
          "base_uri": "https://localhost:8080/",
          "height": 34
        },
        "outputId": "949d83dd-d611-44db-9bb5-44ba8675b34f"
      },
      "source": [
        "#train the model using the training set\n",
        "model.fit(merge(Outlook_encoded, Temperature_encoded, Wind_encoded),label)"
      ],
      "execution_count": 30,
      "outputs": [
        {
          "output_type": "execute_result",
          "data": {
            "text/plain": [
              "GaussianNB(priors=None, var_smoothing=1e-09)"
            ]
          },
          "metadata": {
            "tags": []
          },
          "execution_count": 30
        }
      ]
    },
    {
      "cell_type": "code",
      "metadata": {
        "id": "bHwO61zBDOg0",
        "colab_type": "code",
        "colab": {
          "base_uri": "https://localhost:8080/",
          "height": 34
        },
        "outputId": "fd767e11-609e-4305-aa0e-7b82aff78a28"
      },
      "source": [
        "#Predict for Sunny, Cool, Strong\n",
        "predicted = model.predict([[2,0,0]])\n",
        "print(\"predicted value: \",predicted)"
      ],
      "execution_count": 31,
      "outputs": [
        {
          "output_type": "stream",
          "text": [
            "predicted value:  [0]\n"
          ],
          "name": "stdout"
        }
      ]
    },
    {
      "cell_type": "code",
      "metadata": {
        "id": "0eJNHSeHDbGj",
        "colab_type": "code",
        "colab": {}
      },
      "source": [
        ""
      ],
      "execution_count": null,
      "outputs": []
    }
  ]
}